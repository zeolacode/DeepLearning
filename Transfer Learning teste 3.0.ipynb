{
 "cells": [
  {
   "cell_type": "markdown",
   "id": "675af22f",
   "metadata": {},
   "source": [
    "# Parte 1"
   ]
  },
  {
   "cell_type": "code",
   "execution_count": 1,
   "id": "4aabd7c7",
   "metadata": {},
   "outputs": [
    {
     "name": "stdout",
     "output_type": "stream",
     "text": [
      "Found 29262 images belonging to 6 classes.\n",
      "Found 12539 images belonging to 6 classes.\n"
     ]
    }
   ],
   "source": [
    "# CARREGANDO OS DADOS\n",
    "\n",
    "from tensorflow.keras.preprocessing.image import ImageDataGenerator\n",
    "\n",
    "datagen1 = ImageDataGenerator(rescale = (1./128) - 1, validation_split = 0.3)\n",
    "\n",
    "train1 = datagen1.flow_from_directory('databirds/', batch_size=32, class_mode = 'categorical', target_size=(224, 224), subset='training')\n",
    "test1 = datagen1.flow_from_directory('databirds/', batch_size=32, class_mode = 'categorical', target_size=(224, 224), subset='validation')"
   ]
  },
  {
   "cell_type": "markdown",
   "id": "837e3cd8",
   "metadata": {},
   "source": [
    "## My model\n"
   ]
  },
  {
   "cell_type": "code",
   "execution_count": 8,
   "id": "81ae4197",
   "metadata": {},
   "outputs": [],
   "source": [
    "import splitfolders\n",
    "from tensorflow import keras\n",
    "import numpy as np\n",
    "from tensorflow.keras.preprocessing.image import ImageDataGenerator\n",
    "from tensorflow.keras.optimizers import SGD\n",
    "import tensorflow as tf\n",
    "from tensorflow.keras import layers, models"
   ]
  },
  {
   "cell_type": "code",
   "execution_count": 3,
   "id": "b0a84000",
   "metadata": {},
   "outputs": [
    {
     "name": "stdout",
     "output_type": "stream",
     "text": [
      "Model: \"sequential\"\n",
      "_________________________________________________________________\n",
      "Layer (type)                 Output Shape              Param #   \n",
      "=================================================================\n",
      "conv2d (Conv2D)              (None, 110, 110, 32)      2432      \n",
      "_________________________________________________________________\n",
      "batch_normalization (BatchNo (None, 110, 110, 32)      96        \n",
      "_________________________________________________________________\n",
      "activation (Activation)      (None, 110, 110, 32)      0         \n",
      "_________________________________________________________________\n",
      "conv2d_1 (Conv2D)            (None, 53, 53, 32)        25632     \n",
      "_________________________________________________________________\n",
      "batch_normalization_1 (Batch (None, 53, 53, 32)        96        \n",
      "_________________________________________________________________\n",
      "activation_1 (Activation)    (None, 53, 53, 32)        0         \n",
      "_________________________________________________________________\n",
      "conv2d_2 (Conv2D)            (None, 25, 25, 64)        51264     \n",
      "_________________________________________________________________\n",
      "batch_normalization_2 (Batch (None, 25, 25, 64)        192       \n",
      "_________________________________________________________________\n",
      "activation_2 (Activation)    (None, 25, 25, 64)        0         \n",
      "_________________________________________________________________\n",
      "max_pooling2d (MaxPooling2D) (None, 12, 12, 64)        0         \n",
      "_________________________________________________________________\n",
      "conv2d_3 (Conv2D)            (None, 5, 5, 64)          36928     \n",
      "_________________________________________________________________\n",
      "batch_normalization_3 (Batch (None, 5, 5, 64)          192       \n",
      "_________________________________________________________________\n",
      "activation_3 (Activation)    (None, 5, 5, 64)          0         \n",
      "_________________________________________________________________\n",
      "conv2d_4 (Conv2D)            (None, 2, 2, 64)          36928     \n",
      "_________________________________________________________________\n",
      "batch_normalization_4 (Batch (None, 2, 2, 64)          192       \n",
      "_________________________________________________________________\n",
      "activation_4 (Activation)    (None, 2, 2, 64)          0         \n",
      "_________________________________________________________________\n",
      "flatten (Flatten)            (None, 256)               0         \n",
      "_________________________________________________________________\n",
      "dense (Dense)                (None, 64)                16448     \n",
      "_________________________________________________________________\n",
      "activation_5 (Activation)    (None, 64)                0         \n",
      "_________________________________________________________________\n",
      "flatten_1 (Flatten)          (None, 64)                0         \n",
      "_________________________________________________________________\n",
      "dense_1 (Dense)              (None, 10)                650       \n",
      "=================================================================\n",
      "Total params: 171,050\n",
      "Trainable params: 170,538\n",
      "Non-trainable params: 512\n",
      "_________________________________________________________________\n"
     ]
    }
   ],
   "source": [
    "input_shape = (224, 224, 3)\n",
    "n_classes = 10\n",
    "img_dims = 224\n",
    "\n",
    "model = models.Sequential()\n",
    "\n",
    "model.add(layers.Conv2D(32, kernel_size=(5, 5), strides=(2, 2), padding='valid',input_shape=(224,224,3)))\n",
    "model.add(layers.BatchNormalization(axis=3, scale=False))\n",
    "\n",
    "model.add(layers.Activation('relu'))\n",
    "model.add(layers.Conv2D(32, (5, 5), strides=(2, 2), padding='valid'))\n",
    "model.add(layers.BatchNormalization(axis=3, scale=False))\n",
    "\n",
    "model.add(layers.Activation('relu'))\n",
    "model.add(layers.Conv2D(64, kernel_size=(5, 5), strides=(2, 2), padding='valid'))\n",
    "model.add(layers.BatchNormalization(axis=3, scale=False))\n",
    "\n",
    "model.add(layers.Activation('relu'))\n",
    "model.add(layers.MaxPooling2D(pool_size=(3, 3), strides=(2, 2)))\n",
    "model.add(layers.Conv2D(64, kernel_size=(3, 3), strides=(2, 2), padding='valid'))\n",
    "model.add(layers.BatchNormalization(axis=3, scale=False))\n",
    "\n",
    "model.add(layers.Activation('relu'))\n",
    "model.add(layers.Conv2D(64, (3, 3), strides=(2, 2), padding='valid'))\n",
    "model.add(layers.BatchNormalization(axis=3, scale=False))\n",
    "\n",
    "\n",
    "model.add(layers.Activation('relu'))\n",
    "model.add(layers.Flatten())\n",
    "model.add(layers.Dense(64, activation='relu'))\n",
    "\n",
    "\n",
    "model.add(layers.Activation('relu'))\n",
    "model.add(layers.Flatten())\n",
    "model.add(layers.Dense(n_classes, activation='softmax'))\n",
    "\n",
    "\n",
    "model.summary()"
   ]
  },
  {
   "cell_type": "code",
   "execution_count": 4,
   "id": "c776fbff",
   "metadata": {},
   "outputs": [
    {
     "data": {
      "text/plain": [
       "['checkpoint', 'cp.ckpt.data-00000-of-00001', 'cp.ckpt.index']"
      ]
     },
     "execution_count": 4,
     "metadata": {},
     "output_type": "execute_result"
    }
   ],
   "source": [
    "import os \n",
    "checkpoint_path = \"model/cp.ckpt.index\"\n",
    "checkpoint_dir = os.path.dirname(checkpoint_path)\n",
    "#model.load_weights(checkpoint_path)\n",
    "os.listdir(checkpoint_dir)"
   ]
  },
  {
   "cell_type": "code",
   "execution_count": 5,
   "id": "d1022240",
   "metadata": {},
   "outputs": [
    {
     "data": {
      "text/plain": [
       "'model\\\\cp.ckpt'"
      ]
     },
     "execution_count": 5,
     "metadata": {},
     "output_type": "execute_result"
    }
   ],
   "source": [
    "latest = tf.train.latest_checkpoint(checkpoint_dir)\n",
    "latest"
   ]
  },
  {
   "cell_type": "code",
   "execution_count": 6,
   "id": "35e6cbb0",
   "metadata": {},
   "outputs": [
    {
     "name": "stdout",
     "output_type": "stream",
     "text": [
      "WARNING:tensorflow:Inconsistent references when loading the checkpoint into this object graph. Either the Trackable object references in the Python program have changed in an incompatible way, or the checkpoint was generated in an incompatible program.\n",
      "\n",
      "Two checkpoint references resolved to different objects (<tensorflow.python.keras.layers.convolutional.Conv2D object at 0x000001A2A5928C08> and <tensorflow.python.keras.engine.input_layer.InputLayer object at 0x000001A2A594F188>).\n",
      "WARNING:tensorflow:Inconsistent references when loading the checkpoint into this object graph. Either the Trackable object references in the Python program have changed in an incompatible way, or the checkpoint was generated in an incompatible program.\n",
      "\n",
      "Two checkpoint references resolved to different objects (<tensorflow.python.keras.layers.normalization_v2.BatchNormalization object at 0x000001A2A592F608> and <tensorflow.python.keras.layers.convolutional.Conv2D object at 0x000001A2A5928C08>).\n",
      "WARNING:tensorflow:Inconsistent references when loading the checkpoint into this object graph. Either the Trackable object references in the Python program have changed in an incompatible way, or the checkpoint was generated in an incompatible program.\n",
      "\n",
      "Two checkpoint references resolved to different objects (<tensorflow.python.keras.layers.convolutional.Conv2D object at 0x000001A2A592F588> and <tensorflow.python.keras.layers.core.Activation object at 0x000001A2A5ABE5C8>).\n",
      "WARNING:tensorflow:Inconsistent references when loading the checkpoint into this object graph. Either the Trackable object references in the Python program have changed in an incompatible way, or the checkpoint was generated in an incompatible program.\n",
      "\n",
      "Two checkpoint references resolved to different objects (<tensorflow.python.keras.layers.normalization_v2.BatchNormalization object at 0x000001A2ACC73688> and <tensorflow.python.keras.layers.convolutional.Conv2D object at 0x000001A2A592F588>).\n",
      "WARNING:tensorflow:Inconsistent references when loading the checkpoint into this object graph. Either the Trackable object references in the Python program have changed in an incompatible way, or the checkpoint was generated in an incompatible program.\n",
      "\n",
      "Two checkpoint references resolved to different objects (<tensorflow.python.keras.layers.convolutional.Conv2D object at 0x000001A2A5ABE948> and <tensorflow.python.keras.layers.core.Activation object at 0x000001A2A5ABE888>).\n",
      "WARNING:tensorflow:Inconsistent references when loading the checkpoint into this object graph. Either the Trackable object references in the Python program have changed in an incompatible way, or the checkpoint was generated in an incompatible program.\n",
      "\n",
      "Two checkpoint references resolved to different objects (<tensorflow.python.keras.layers.normalization_v2.BatchNormalization object at 0x000001A2ACD10988> and <tensorflow.python.keras.layers.convolutional.Conv2D object at 0x000001A2A5ABE948>).\n",
      "WARNING:tensorflow:Inconsistent references when loading the checkpoint into this object graph. Either the Trackable object references in the Python program have changed in an incompatible way, or the checkpoint was generated in an incompatible program.\n",
      "\n",
      "Two checkpoint references resolved to different objects (<tensorflow.python.keras.layers.convolutional.Conv2D object at 0x000001A2ACD16308> and <tensorflow.python.keras.layers.pooling.MaxPooling2D object at 0x000001A2ACD12648>).\n",
      "WARNING:tensorflow:Inconsistent references when loading the checkpoint into this object graph. Either the Trackable object references in the Python program have changed in an incompatible way, or the checkpoint was generated in an incompatible program.\n",
      "\n",
      "Two checkpoint references resolved to different objects (<tensorflow.python.keras.layers.normalization_v2.BatchNormalization object at 0x000001A2ACE89248> and <tensorflow.python.keras.layers.convolutional.Conv2D object at 0x000001A2ACD16308>).\n",
      "WARNING:tensorflow:Inconsistent references when loading the checkpoint into this object graph. Either the Trackable object references in the Python program have changed in an incompatible way, or the checkpoint was generated in an incompatible program.\n",
      "\n",
      "Two checkpoint references resolved to different objects (<tensorflow.python.keras.layers.convolutional.Conv2D object at 0x000001A2A5928DC8> and <tensorflow.python.keras.layers.core.Activation object at 0x000001A2ACE9D8C8>).\n",
      "WARNING:tensorflow:Inconsistent references when loading the checkpoint into this object graph. Either the Trackable object references in the Python program have changed in an incompatible way, or the checkpoint was generated in an incompatible program.\n",
      "\n",
      "Two checkpoint references resolved to different objects (<tensorflow.python.keras.layers.normalization_v2.BatchNormalization object at 0x000001A2ACE8A748> and <tensorflow.python.keras.layers.convolutional.Conv2D object at 0x000001A2A5928DC8>).\n",
      "WARNING:tensorflow:Inconsistent references when loading the checkpoint into this object graph. Either the Trackable object references in the Python program have changed in an incompatible way, or the checkpoint was generated in an incompatible program.\n",
      "\n",
      "Two checkpoint references resolved to different objects (<tensorflow.python.keras.layers.core.Dense object at 0x000001A2AD023308> and <tensorflow.python.keras.layers.core.Flatten object at 0x000001A2ACE77C88>).\n",
      "WARNING:tensorflow:Inconsistent references when loading the checkpoint into this object graph. Either the Trackable object references in the Python program have changed in an incompatible way, or the checkpoint was generated in an incompatible program.\n",
      "\n",
      "Two checkpoint references resolved to different objects (<tensorflow.python.keras.layers.core.Dense object at 0x000001A2AD1FE488> and <tensorflow.python.keras.layers.core.Flatten object at 0x000001A2AD1EE388>).\n"
     ]
    },
    {
     "data": {
      "text/plain": [
       "<tensorflow.python.training.tracking.util.CheckpointLoadStatus at 0x1a2ad37b048>"
      ]
     },
     "execution_count": 6,
     "metadata": {},
     "output_type": "execute_result"
    }
   ],
   "source": [
    "model.load_weights(latest)"
   ]
  },
  {
   "cell_type": "code",
   "execution_count": 7,
   "id": "f9419b5e",
   "metadata": {},
   "outputs": [
    {
     "name": "stdout",
     "output_type": "stream",
     "text": [
      "Model: \"sequential_1\"\n",
      "_________________________________________________________________\n",
      "Layer (type)                 Output Shape              Param #   \n",
      "=================================================================\n",
      "conv2d (Conv2D)              (None, 110, 110, 32)      2432      \n",
      "_________________________________________________________________\n",
      "batch_normalization (BatchNo (None, 110, 110, 32)      96        \n",
      "_________________________________________________________________\n",
      "activation (Activation)      (None, 110, 110, 32)      0         \n",
      "_________________________________________________________________\n",
      "conv2d_1 (Conv2D)            (None, 53, 53, 32)        25632     \n",
      "_________________________________________________________________\n",
      "batch_normalization_1 (Batch (None, 53, 53, 32)        96        \n",
      "_________________________________________________________________\n",
      "activation_1 (Activation)    (None, 53, 53, 32)        0         \n",
      "_________________________________________________________________\n",
      "conv2d_2 (Conv2D)            (None, 25, 25, 64)        51264     \n",
      "_________________________________________________________________\n",
      "batch_normalization_2 (Batch (None, 25, 25, 64)        192       \n",
      "_________________________________________________________________\n",
      "activation_2 (Activation)    (None, 25, 25, 64)        0         \n",
      "_________________________________________________________________\n",
      "max_pooling2d (MaxPooling2D) (None, 12, 12, 64)        0         \n",
      "_________________________________________________________________\n",
      "conv2d_3 (Conv2D)            (None, 5, 5, 64)          36928     \n",
      "_________________________________________________________________\n",
      "batch_normalization_3 (Batch (None, 5, 5, 64)          192       \n",
      "_________________________________________________________________\n",
      "activation_3 (Activation)    (None, 5, 5, 64)          0         \n",
      "_________________________________________________________________\n",
      "conv2d_4 (Conv2D)            (None, 2, 2, 64)          36928     \n",
      "_________________________________________________________________\n",
      "batch_normalization_4 (Batch (None, 2, 2, 64)          192       \n",
      "_________________________________________________________________\n",
      "activation_4 (Activation)    (None, 2, 2, 64)          0         \n",
      "_________________________________________________________________\n",
      "flatten (Flatten)            (None, 256)               0         \n",
      "_________________________________________________________________\n",
      "dense (Dense)                (None, 64)                16448     \n",
      "_________________________________________________________________\n",
      "activation_5 (Activation)    (None, 64)                0         \n",
      "_________________________________________________________________\n",
      "flatten_1 (Flatten)          (None, 64)                0         \n",
      "_________________________________________________________________\n",
      "dense_2 (Dense)              (None, 6)                 390       \n",
      "=================================================================\n",
      "Total params: 170,790\n",
      "Trainable params: 390\n",
      "Non-trainable params: 170,400\n",
      "_________________________________________________________________\n"
     ]
    }
   ],
   "source": [
    "for layer in model.layers:\n",
    "    layer.trainable = False\n",
    "\n",
    "modelTL = keras.models.Sequential()\n",
    "for layer in model.layers[0:-1]:\n",
    "    modelTL.add(layer)\n",
    "\n",
    "modelTL.add(layers.Dense(6, activation='softmax'))\n",
    "sgd = SGD(learning_rate=0.1)\n",
    "\n",
    "modelTL.compile(loss='categorical_crossentropy', optimizer=sgd, metrics=['accuracy'])\n",
    "modelTL.summary()"
   ]
  },
  {
   "cell_type": "code",
   "execution_count": 8,
   "id": "1351079c",
   "metadata": {},
   "outputs": [
    {
     "name": "stdout",
     "output_type": "stream",
     "text": [
      "WARNING:tensorflow:sample_weight modes were coerced from\n",
      "  ...\n",
      "    to  \n",
      "  ['...']\n",
      "WARNING:tensorflow:sample_weight modes were coerced from\n",
      "  ...\n",
      "    to  \n",
      "  ['...']\n",
      "Train for 915 steps, validate for 392 steps\n",
      "Epoch 1/10\n",
      "915/915 [==============================] - 201s 220ms/step - loss: 1.2358 - accuracy: 0.5358 - val_loss: 1.3909 - val_accuracy: 0.4437\n",
      "Epoch 2/10\n",
      "915/915 [==============================] - 71s 78ms/step - loss: 1.1952 - accuracy: 0.5456 - val_loss: 1.3918 - val_accuracy: 0.4515\n",
      "Epoch 3/10\n",
      "915/915 [==============================] - 71s 78ms/step - loss: 1.1908 - accuracy: 0.5473 - val_loss: 1.4216 - val_accuracy: 0.4355\n",
      "Epoch 4/10\n",
      "915/915 [==============================] - 71s 78ms/step - loss: 1.1903 - accuracy: 0.5474 - val_loss: 1.3904 - val_accuracy: 0.4370\n",
      "Epoch 5/10\n",
      "915/915 [==============================] - 77s 84ms/step - loss: 1.1879 - accuracy: 0.5480 - val_loss: 1.4065 - val_accuracy: 0.4449\n",
      "Epoch 6/10\n",
      "915/915 [==============================] - 75s 82ms/step - loss: 1.1872 - accuracy: 0.5477 - val_loss: 1.4029 - val_accuracy: 0.4386\n",
      "Epoch 7/10\n",
      "915/915 [==============================] - 76s 84ms/step - loss: 1.1866 - accuracy: 0.5479 - val_loss: 1.4050 - val_accuracy: 0.4502\n",
      "Epoch 8/10\n",
      "915/915 [==============================] - 72s 79ms/step - loss: 1.1861 - accuracy: 0.5481 - val_loss: 1.3954 - val_accuracy: 0.4453\n",
      "Epoch 9/10\n",
      "915/915 [==============================] - 73s 79ms/step - loss: 1.1862 - accuracy: 0.5498 - val_loss: 1.4182 - val_accuracy: 0.4214\n",
      "Epoch 10/10\n",
      "915/915 [==============================] - 72s 78ms/step - loss: 1.1871 - accuracy: 0.5466 - val_loss: 1.3955 - val_accuracy: 0.4379\n"
     ]
    }
   ],
   "source": [
    "modelTL_hist = modelTL.fit(train1, validation_data=test1, epochs=10)"
   ]
  },
  {
   "cell_type": "code",
   "execution_count": 9,
   "id": "e9fd1bfe",
   "metadata": {},
   "outputs": [
    {
     "data": {
      "text/plain": [
       "<matplotlib.legend.Legend at 0x1a4044cf6c8>"
      ]
     },
     "execution_count": 9,
     "metadata": {},
     "output_type": "execute_result"
    },
    {
     "data": {
      "image/png": "[encoded data removed]",
      "text/plain": [
       "<Figure size 432x288 with 1 Axes>"
      ]
     },
     "metadata": {
      "needs_background": "light"
     },
     "output_type": "display_data"
    }
   ],
   "source": [
    "import matplotlib.pyplot as plt\n",
    "plt.plot(modelTL_hist.history['accuracy'], label='train')\n",
    "plt.plot(modelTL_hist.history['val_accuracy'], label='test')\n",
    "plt.legend()"
   ]
  },
  {
   "cell_type": "code",
   "execution_count": 10,
   "id": "9a712201",
   "metadata": {},
   "outputs": [
    {
     "data": {
      "text/plain": [
       "0.154007740530345"
      ]
     },
     "execution_count": 10,
     "metadata": {},
     "output_type": "execute_result"
    }
   ],
   "source": [
    "from sklearn.metrics import f1_score\n",
    "predictions = modelTL.predict(test1)\n",
    "predictions = tf.argmax(predictions, axis=-1)\n",
    "\n",
    "y_pred = predictions.numpy()\n",
    "y_true = test1.labels\n",
    "f1 = f1_score(y_true, y_pred, average='macro') \n",
    "f1"
   ]
  },
  {
   "cell_type": "code",
   "execution_count": 11,
   "id": "b0d20d98",
   "metadata": {},
   "outputs": [
    {
     "data": {
      "text/plain": [
       "<AxesSubplot:>"
      ]
     },
     "execution_count": 11,
     "metadata": {},
     "output_type": "execute_result"
    },
    {
     "data": {
      "image/png": "[encoded data removed]",
      "text/plain": [
       "<Figure size 432x288 with 2 Axes>"
      ]
     },
     "metadata": {
      "needs_background": "light"
     },
     "output_type": "display_data"
    }
   ],
   "source": [
    "from sklearn.metrics import confusion_matrix\n",
    "import seaborn as sns\n",
    "matrix = confusion_matrix(y_true, y_pred)\n",
    "\n",
    "plt.figure()\n",
    "sns.heatmap(matrix, annot=True)"
   ]
  },
  {
   "cell_type": "markdown",
   "id": "5a8f406a",
   "metadata": {},
   "source": [
    "# Parte 2"
   ]
  },
  {
   "cell_type": "code",
   "execution_count": 9,
   "id": "0ad870e3",
   "metadata": {},
   "outputs": [
    {
     "name": "stdout",
     "output_type": "stream",
     "text": [
      "Found 29262 images belonging to 6 classes.\n",
      "Found 12539 images belonging to 6 classes.\n"
     ]
    }
   ],
   "source": [
    "# Carregando os dados\n",
    "\n",
    "datagen2 = ImageDataGenerator(rescale = (1./255), validation_split = 0.3)\n",
    "\n",
    "train2 = datagen2.flow_from_directory('databirds/', batch_size=32, class_mode = 'categorical', target_size=(224, 224), subset='training')\n",
    "test2 = datagen2.flow_from_directory('databirds/', batch_size=32, class_mode = 'categorical', target_size=(224, 224), subset='validation')"
   ]
  },
  {
   "cell_type": "code",
   "execution_count": 10,
   "id": "dbacd19d",
   "metadata": {},
   "outputs": [],
   "source": [
    "IMG_SHAPE = (224, 224, 3)\n",
    "\n",
    "\n",
    "MNV2 = tf.keras.applications.MobileNetV2(input_shape=IMG_SHAPE,\n",
    "                                               include_top=True,\n",
    "                                               weights='imagenet')\n",
    "\n",
    "for layer in MNV2.layers[:-5]:\n",
    "    layer.trainable = False"
   ]
  },
  {
   "cell_type": "code",
   "execution_count": 11,
   "id": "3f48f5d1",
   "metadata": {},
   "outputs": [],
   "source": [
    "from tensorflow.keras.models import Model\n",
    "\n",
    "output_base_model = layers.Dense(6, activation='softmax')(MNV2.layers[-2].output)\n",
    "MNV2 = Model(inputs=MNV2.layers[0].output, outputs=output_base_model)"
   ]
  },
  {
   "cell_type": "code",
   "execution_count": 12,
   "id": "5a8a117d",
   "metadata": {},
   "outputs": [],
   "source": [
    "sgd = SGD(learning_rate=0.01)\n",
    "MNV2.compile(loss='categorical_crossentropy', optimizer=sgd, metrics=['accuracy'])"
   ]
  },
  {
   "cell_type": "code",
   "execution_count": 13,
   "id": "8da7d6cb",
   "metadata": {},
   "outputs": [
    {
     "name": "stdout",
     "output_type": "stream",
     "text": [
      "WARNING:tensorflow:sample_weight modes were coerced from\n",
      "  ...\n",
      "    to  \n",
      "  ['...']\n"
     ]
    },
    {
     "name": "stderr",
     "output_type": "stream",
     "text": [
      "WARNING:tensorflow:sample_weight modes were coerced from\n",
      "  ...\n",
      "    to  \n",
      "  ['...']\n"
     ]
    },
    {
     "name": "stdout",
     "output_type": "stream",
     "text": [
      "WARNING:tensorflow:sample_weight modes were coerced from\n",
      "  ...\n",
      "    to  \n",
      "  ['...']\n"
     ]
    },
    {
     "name": "stderr",
     "output_type": "stream",
     "text": [
      "WARNING:tensorflow:sample_weight modes were coerced from\n",
      "  ...\n",
      "    to  \n",
      "  ['...']\n"
     ]
    },
    {
     "name": "stdout",
     "output_type": "stream",
     "text": [
      "Train for 915 steps, validate for 392 steps\n",
      "Epoch 1/10\n",
      "915/915 [==============================] - 108s 118ms/step - loss: 0.5689 - accuracy: 0.7972 - val_loss: 0.9931 - val_accuracy: 0.6327\n",
      "Epoch 2/10\n",
      "915/915 [==============================] - 106s 116ms/step - loss: 0.3909 - accuracy: 0.8612 - val_loss: 0.9329 - val_accuracy: 0.6520\n",
      "Epoch 3/10\n",
      "915/915 [==============================] - 114s 125ms/step - loss: 0.3237 - accuracy: 0.8877 - val_loss: 0.8833 - val_accuracy: 0.6728\n",
      "Epoch 4/10\n",
      "915/915 [==============================] - 118s 130ms/step - loss: 0.2720 - accuracy: 0.9089 - val_loss: 0.8743 - val_accuracy: 0.6727\n",
      "Epoch 5/10\n",
      "915/915 [==============================] - 115s 126ms/step - loss: 0.2276 - accuracy: 0.9269 - val_loss: 0.9210 - val_accuracy: 0.6612\n",
      "Epoch 6/10\n",
      "915/915 [==============================] - 105s 115ms/step - loss: 0.1887 - accuracy: 0.9442 - val_loss: 0.9578 - val_accuracy: 0.6464\n",
      "Epoch 7/10\n",
      "915/915 [==============================] - 103s 113ms/step - loss: 0.1555 - accuracy: 0.9590 - val_loss: 0.9368 - val_accuracy: 0.6557\n",
      "Epoch 8/10\n",
      "915/915 [==============================] - 110s 120ms/step - loss: 0.1275 - accuracy: 0.9724 - val_loss: 0.9347 - val_accuracy: 0.6702\n",
      "Epoch 9/10\n",
      "915/915 [==============================] - 103s 113ms/step - loss: 0.1047 - accuracy: 0.9807 - val_loss: 0.9728 - val_accuracy: 0.6625\n",
      "Epoch 10/10\n",
      "915/915 [==============================] - 106s 116ms/step - loss: 0.0854 - accuracy: 0.9884 - val_loss: 1.0063 - val_accuracy: 0.6596\n"
     ]
    }
   ],
   "source": [
    "MNV2_hist = MNV2.fit(train2, validation_data=test2, epochs=10)"
   ]
  },
  {
   "cell_type": "code",
   "execution_count": 14,
   "id": "5cdf3fae",
   "metadata": {},
   "outputs": [
    {
     "data": {
      "text/plain": [
       "array([0.33778914, 0.10143934, 0.15690169, 0.05861665, 0.28346674,\n",
       "       0.02079723])"
      ]
     },
     "execution_count": 14,
     "metadata": {},
     "output_type": "execute_result"
    }
   ],
   "source": [
    "predictions2 = MNV2.predict(test2)\n",
    "predictions2 = tf.argmax(predictions2, axis=-1)\n",
    "\n",
    "from sklearn.metrics import f1_score\n",
    "y_pred2 = predictions2.numpy()\n",
    "y_true2 = test2.labels\n",
    "f1_2 = f1_score(y_true2, y_pred2, average=None) \n",
    "f1_2"
   ]
  },
  {
   "cell_type": "code",
   "execution_count": 15,
   "id": "5b267d59",
   "metadata": {},
   "outputs": [
    {
     "data": {
      "text/plain": [
       "<AxesSubplot:>"
      ]
     },
     "execution_count": 15,
     "metadata": {},
     "output_type": "execute_result"
    },
    {
     "data": {
      "image/png": "[encoded data removed]",
      "text/plain": [
       "<Figure size 432x288 with 2 Axes>"
      ]
     },
     "metadata": {
      "needs_background": "light"
     },
     "output_type": "display_data"
    }
   ],
   "source": [
    "from sklearn.metrics import confusion_matrix\n",
    "from sklearn.metrics import plot_confusion_matrix\n",
    "import matplotlib.pyplot as plt\n",
    "import seaborn as sns\n",
    "matrix2 = confusion_matrix(y_true2, y_pred2)\n",
    "\n",
    "plt.figure()\n",
    "sns.heatmap(matrix2, annot=True)"
   ]
  },
  {
   "cell_type": "code",
   "execution_count": null,
   "id": "0bcb22d6",
   "metadata": {},
   "outputs": [],
   "source": []
  }
 ],
 "metadata": {
  "kernelspec": {
   "display_name": "Python 3.6 (tensorflow)",
   "language": "python",
   "name": "tensorflow"
  },
  "language_info": {
   "codemirror_mode": {
    "name": "ipython",
    "version": 3
   },
   "file_extension": ".py",
   "mimetype": "text/x-python",
   "name": "python",
   "nbconvert_exporter": "python",
   "pygments_lexer": "ipython3",
   "version": "3.7.11"
  }
 },
 "nbformat": 4,
 "nbformat_minor": 5
}
