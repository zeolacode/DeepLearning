{
 "cells": [
  {
   "cell_type": "code",
   "execution_count": 1,
   "id": "d37d704a",
   "metadata": {},
   "outputs": [],
   "source": [
    "import splitfolders\n",
    "from tensorflow import keras\n",
    "import numpy as np\n",
    "from tensorflow.keras.preprocessing.image import ImageDataGenerator\n",
    "from tensorflow.keras.optimizers import SGD\n",
    "import tensorflow as tf\n",
    "from tensorflow.keras import layers, models"
   ]
  },
  {
   "cell_type": "code",
   "execution_count": 2,
   "id": "457059c3",
   "metadata": {},
   "outputs": [],
   "source": [
    "input_folder = 'databirds/'"
   ]
  },
  {
   "cell_type": "code",
   "execution_count": 4,
   "id": "55c19c21",
   "metadata": {},
   "outputs": [
    {
     "name": "stderr",
     "output_type": "stream",
     "text": [
      "Copying files: 41650 files [01:13, 568.75 files/s]\n"
     ]
    }
   ],
   "source": [
    "splitfolders.ratio(input_folder, output=\"databirds2/\", seed=42, ratio=(.7, .2, .1), group_prefix=None)"
   ]
  },
  {
   "cell_type": "code",
   "execution_count": 3,
   "id": "a305e952",
   "metadata": {},
   "outputs": [],
   "source": [
    "datagen = ImageDataGenerator(\n",
    "                horizontal_flip=True,\n",
    "                rescale=(1./128) - 1\n",
    "              )\n",
    "\n",
    "datagen_test = ImageDataGenerator(\n",
    "              rescale=(1./128) - 1\n",
    "              )"
   ]
  },
  {
   "cell_type": "code",
   "execution_count": 4,
   "id": "84b62439",
   "metadata": {},
   "outputs": [
    {
     "name": "stdout",
     "output_type": "stream",
     "text": [
      "Found 28695 images belonging to 6 classes.\n",
      "Found 4089 images belonging to 6 classes.\n"
     ]
    }
   ],
   "source": [
    "train_batches = datagen.flow_from_directory('databirds2/train/', batch_size=32, class_mode = 'categorical', target_size=(224, 224))\n",
    "test_batches = datagen_test.flow_from_directory('databirds2/test/', batch_size=32, class_mode = 'categorical', target_size=(224, 224))"
   ]
  },
  {
   "cell_type": "markdown",
   "id": "18433cd9",
   "metadata": {},
   "source": [
    "## My Model"
   ]
  },
  {
   "cell_type": "code",
   "execution_count": 5,
   "id": "c18e8c8e",
   "metadata": {},
   "outputs": [
    {
     "name": "stdout",
     "output_type": "stream",
     "text": [
      "Model: \"sequential\"\n",
      "_________________________________________________________________\n",
      "Layer (type)                 Output Shape              Param #   \n",
      "=================================================================\n",
      "conv2d (Conv2D)              (None, 110, 110, 32)      2432      \n",
      "_________________________________________________________________\n",
      "batch_normalization (BatchNo (None, 110, 110, 32)      96        \n",
      "_________________________________________________________________\n",
      "activation (Activation)      (None, 110, 110, 32)      0         \n",
      "_________________________________________________________________\n",
      "conv2d_1 (Conv2D)            (None, 53, 53, 32)        25632     \n",
      "_________________________________________________________________\n",
      "batch_normalization_1 (Batch (None, 53, 53, 32)        96        \n",
      "_________________________________________________________________\n",
      "activation_1 (Activation)    (None, 53, 53, 32)        0         \n",
      "_________________________________________________________________\n",
      "conv2d_2 (Conv2D)            (None, 25, 25, 64)        51264     \n",
      "_________________________________________________________________\n",
      "batch_normalization_2 (Batch (None, 25, 25, 64)        192       \n",
      "_________________________________________________________________\n",
      "activation_2 (Activation)    (None, 25, 25, 64)        0         \n",
      "_________________________________________________________________\n",
      "max_pooling2d (MaxPooling2D) (None, 12, 12, 64)        0         \n",
      "_________________________________________________________________\n",
      "conv2d_3 (Conv2D)            (None, 5, 5, 64)          36928     \n",
      "_________________________________________________________________\n",
      "batch_normalization_3 (Batch (None, 5, 5, 64)          192       \n",
      "_________________________________________________________________\n",
      "activation_3 (Activation)    (None, 5, 5, 64)          0         \n",
      "_________________________________________________________________\n",
      "conv2d_4 (Conv2D)            (None, 2, 2, 64)          36928     \n",
      "_________________________________________________________________\n",
      "batch_normalization_4 (Batch (None, 2, 2, 64)          192       \n",
      "_________________________________________________________________\n",
      "activation_4 (Activation)    (None, 2, 2, 64)          0         \n",
      "_________________________________________________________________\n",
      "flatten (Flatten)            (None, 256)               0         \n",
      "_________________________________________________________________\n",
      "dense (Dense)                (None, 64)                16448     \n",
      "_________________________________________________________________\n",
      "activation_5 (Activation)    (None, 64)                0         \n",
      "_________________________________________________________________\n",
      "flatten_1 (Flatten)          (None, 64)                0         \n",
      "_________________________________________________________________\n",
      "dense_1 (Dense)              (None, 10)                650       \n",
      "=================================================================\n",
      "Total params: 171,050\n",
      "Trainable params: 170,538\n",
      "Non-trainable params: 512\n",
      "_________________________________________________________________\n"
     ]
    }
   ],
   "source": [
    "input_shape = (224, 224, 3)\n",
    "n_classes = 10\n",
    "img_dims = 224\n",
    "\n",
    "model = models.Sequential()\n",
    "\n",
    "model.add(layers.Conv2D(32, kernel_size=(5, 5), strides=(2, 2), padding='valid',input_shape=(224,224,3)))\n",
    "model.add(layers.BatchNormalization(axis=3, scale=False))\n",
    "\n",
    "model.add(layers.Activation('relu'))\n",
    "model.add(layers.Conv2D(32, (5, 5), strides=(2, 2), padding='valid'))\n",
    "model.add(layers.BatchNormalization(axis=3, scale=False))\n",
    "\n",
    "model.add(layers.Activation('relu'))\n",
    "model.add(layers.Conv2D(64, kernel_size=(5, 5), strides=(2, 2), padding='valid'))\n",
    "model.add(layers.BatchNormalization(axis=3, scale=False))\n",
    "\n",
    "model.add(layers.Activation('relu'))\n",
    "model.add(layers.MaxPooling2D(pool_size=(3, 3), strides=(2, 2)))\n",
    "model.add(layers.Conv2D(64, kernel_size=(3, 3), strides=(2, 2), padding='valid'))\n",
    "model.add(layers.BatchNormalization(axis=3, scale=False))\n",
    "\n",
    "model.add(layers.Activation('relu'))\n",
    "model.add(layers.Conv2D(64, (3, 3), strides=(2, 2), padding='valid'))\n",
    "model.add(layers.BatchNormalization(axis=3, scale=False))\n",
    "\n",
    "\n",
    "model.add(layers.Activation('relu'))\n",
    "model.add(layers.Flatten())\n",
    "model.add(layers.Dense(64, activation='relu'))\n",
    "\n",
    "\n",
    "model.add(layers.Activation('relu'))\n",
    "model.add(layers.Flatten())\n",
    "model.add(layers.Dense(n_classes, activation='softmax'))\n",
    "\n",
    "\n",
    "model.summary()"
   ]
  },
  {
   "cell_type": "code",
   "execution_count": 6,
   "id": "e2ba4761",
   "metadata": {},
   "outputs": [
    {
     "data": {
      "text/plain": [
       "['checkpoint', 'cp.ckpt.data-00000-of-00001', 'cp.ckpt.index']"
      ]
     },
     "execution_count": 6,
     "metadata": {},
     "output_type": "execute_result"
    }
   ],
   "source": [
    "import os \n",
    "checkpoint_path = \"model/cp.ckpt.index\"\n",
    "checkpoint_dir = os.path.dirname(checkpoint_path)\n",
    "#model.load_weights(checkpoint_path)\n",
    "os.listdir(checkpoint_dir)"
   ]
  },
  {
   "cell_type": "code",
   "execution_count": 7,
   "id": "9c84b767",
   "metadata": {},
   "outputs": [
    {
     "data": {
      "text/plain": [
       "'model\\\\cp.ckpt'"
      ]
     },
     "execution_count": 7,
     "metadata": {},
     "output_type": "execute_result"
    }
   ],
   "source": [
    "latest = tf.train.latest_checkpoint(checkpoint_dir)\n",
    "latest"
   ]
  },
  {
   "cell_type": "code",
   "execution_count": 8,
   "id": "8ae08f6b",
   "metadata": {},
   "outputs": [
    {
     "name": "stdout",
     "output_type": "stream",
     "text": [
      "WARNING:tensorflow:Inconsistent references when loading the checkpoint into this object graph. Either the Trackable object references in the Python program have changed in an incompatible way, or the checkpoint was generated in an incompatible program.\n",
      "\n",
      "Two checkpoint references resolved to different objects (<tensorflow.python.keras.layers.convolutional.Conv2D object at 0x000001D901A0FC48> and <tensorflow.python.keras.engine.input_layer.InputLayer object at 0x000001D901A361C8>).\n",
      "WARNING:tensorflow:Inconsistent references when loading the checkpoint into this object graph. Either the Trackable object references in the Python program have changed in an incompatible way, or the checkpoint was generated in an incompatible program.\n",
      "\n",
      "Two checkpoint references resolved to different objects (<tensorflow.python.keras.layers.normalization_v2.BatchNormalization object at 0x000001D901A24608> and <tensorflow.python.keras.layers.convolutional.Conv2D object at 0x000001D901A0FC48>).\n",
      "WARNING:tensorflow:Inconsistent references when loading the checkpoint into this object graph. Either the Trackable object references in the Python program have changed in an incompatible way, or the checkpoint was generated in an incompatible program.\n",
      "\n",
      "Two checkpoint references resolved to different objects (<tensorflow.python.keras.layers.convolutional.Conv2D object at 0x000001D901A24588> and <tensorflow.python.keras.layers.core.Activation object at 0x000001D901B29508>).\n",
      "WARNING:tensorflow:Inconsistent references when loading the checkpoint into this object graph. Either the Trackable object references in the Python program have changed in an incompatible way, or the checkpoint was generated in an incompatible program.\n",
      "\n",
      "Two checkpoint references resolved to different objects (<tensorflow.python.keras.layers.normalization_v2.BatchNormalization object at 0x000001D901D21748> and <tensorflow.python.keras.layers.convolutional.Conv2D object at 0x000001D901A24588>).\n",
      "WARNING:tensorflow:Inconsistent references when loading the checkpoint into this object graph. Either the Trackable object references in the Python program have changed in an incompatible way, or the checkpoint was generated in an incompatible program.\n",
      "\n",
      "Two checkpoint references resolved to different objects (<tensorflow.python.keras.layers.convolutional.Conv2D object at 0x000001D901B1DB08> and <tensorflow.python.keras.layers.core.Activation object at 0x000001D901D21648>).\n",
      "WARNING:tensorflow:Inconsistent references when loading the checkpoint into this object graph. Either the Trackable object references in the Python program have changed in an incompatible way, or the checkpoint was generated in an incompatible program.\n",
      "\n",
      "Two checkpoint references resolved to different objects (<tensorflow.python.keras.layers.normalization_v2.BatchNormalization object at 0x000001D901DA8E48> and <tensorflow.python.keras.layers.convolutional.Conv2D object at 0x000001D901B1DB08>).\n",
      "WARNING:tensorflow:Inconsistent references when loading the checkpoint into this object graph. Either the Trackable object references in the Python program have changed in an incompatible way, or the checkpoint was generated in an incompatible program.\n",
      "\n",
      "Two checkpoint references resolved to different objects (<tensorflow.python.keras.layers.convolutional.Conv2D object at 0x000001D901B29708> and <tensorflow.python.keras.layers.pooling.MaxPooling2D object at 0x000001D901D73888>).\n",
      "WARNING:tensorflow:Inconsistent references when loading the checkpoint into this object graph. Either the Trackable object references in the Python program have changed in an incompatible way, or the checkpoint was generated in an incompatible program.\n",
      "\n",
      "Two checkpoint references resolved to different objects (<tensorflow.python.keras.layers.normalization_v2.BatchNormalization object at 0x000001D901A24E48> and <tensorflow.python.keras.layers.convolutional.Conv2D object at 0x000001D901B29708>).\n",
      "WARNING:tensorflow:Inconsistent references when loading the checkpoint into this object graph. Either the Trackable object references in the Python program have changed in an incompatible way, or the checkpoint was generated in an incompatible program.\n",
      "\n",
      "Two checkpoint references resolved to different objects (<tensorflow.python.keras.layers.convolutional.Conv2D object at 0x000001D90111CF88> and <tensorflow.python.keras.layers.core.Activation object at 0x000001D908E01388>).\n",
      "WARNING:tensorflow:Inconsistent references when loading the checkpoint into this object graph. Either the Trackable object references in the Python program have changed in an incompatible way, or the checkpoint was generated in an incompatible program.\n",
      "\n",
      "Two checkpoint references resolved to different objects (<tensorflow.python.keras.layers.normalization_v2.BatchNormalization object at 0x000001D908E0B288> and <tensorflow.python.keras.layers.convolutional.Conv2D object at 0x000001D90111CF88>).\n",
      "WARNING:tensorflow:Inconsistent references when loading the checkpoint into this object graph. Either the Trackable object references in the Python program have changed in an incompatible way, or the checkpoint was generated in an incompatible program.\n",
      "\n",
      "Two checkpoint references resolved to different objects (<tensorflow.python.keras.layers.core.Dense object at 0x000001D908F04508> and <tensorflow.python.keras.layers.core.Flatten object at 0x000001D908E1AD08>).\n",
      "WARNING:tensorflow:Inconsistent references when loading the checkpoint into this object graph. Either the Trackable object references in the Python program have changed in an incompatible way, or the checkpoint was generated in an incompatible program.\n",
      "\n",
      "Two checkpoint references resolved to different objects (<tensorflow.python.keras.layers.core.Dense object at 0x000001D901D36548> and <tensorflow.python.keras.layers.core.Flatten object at 0x000001D908E99C48>).\n"
     ]
    },
    {
     "data": {
      "text/plain": [
       "<tensorflow.python.training.tracking.util.CheckpointLoadStatus at 0x1d908f78508>"
      ]
     },
     "execution_count": 8,
     "metadata": {},
     "output_type": "execute_result"
    }
   ],
   "source": [
    "model.load_weights(latest)"
   ]
  },
  {
   "cell_type": "code",
   "execution_count": 9,
   "id": "589a5eb4",
   "metadata": {},
   "outputs": [
    {
     "name": "stdout",
     "output_type": "stream",
     "text": [
      "Model: \"sequential\"\n",
      "_________________________________________________________________\n",
      "Layer (type)                 Output Shape              Param #   \n",
      "=================================================================\n",
      "conv2d (Conv2D)              (None, 110, 110, 32)      2432      \n",
      "_________________________________________________________________\n",
      "batch_normalization (BatchNo (None, 110, 110, 32)      96        \n",
      "_________________________________________________________________\n",
      "activation (Activation)      (None, 110, 110, 32)      0         \n",
      "_________________________________________________________________\n",
      "conv2d_1 (Conv2D)            (None, 53, 53, 32)        25632     \n",
      "_________________________________________________________________\n",
      "batch_normalization_1 (Batch (None, 53, 53, 32)        96        \n",
      "_________________________________________________________________\n",
      "activation_1 (Activation)    (None, 53, 53, 32)        0         \n",
      "_________________________________________________________________\n",
      "conv2d_2 (Conv2D)            (None, 25, 25, 64)        51264     \n",
      "_________________________________________________________________\n",
      "batch_normalization_2 (Batch (None, 25, 25, 64)        192       \n",
      "_________________________________________________________________\n",
      "activation_2 (Activation)    (None, 25, 25, 64)        0         \n",
      "_________________________________________________________________\n",
      "max_pooling2d (MaxPooling2D) (None, 12, 12, 64)        0         \n",
      "_________________________________________________________________\n",
      "conv2d_3 (Conv2D)            (None, 5, 5, 64)          36928     \n",
      "_________________________________________________________________\n",
      "batch_normalization_3 (Batch (None, 5, 5, 64)          192       \n",
      "_________________________________________________________________\n",
      "activation_3 (Activation)    (None, 5, 5, 64)          0         \n",
      "_________________________________________________________________\n",
      "conv2d_4 (Conv2D)            (None, 2, 2, 64)          36928     \n",
      "_________________________________________________________________\n",
      "batch_normalization_4 (Batch (None, 2, 2, 64)          192       \n",
      "_________________________________________________________________\n",
      "activation_4 (Activation)    (None, 2, 2, 64)          0         \n",
      "_________________________________________________________________\n",
      "flatten (Flatten)            (None, 256)               0         \n",
      "_________________________________________________________________\n",
      "dense (Dense)                (None, 64)                16448     \n",
      "_________________________________________________________________\n",
      "activation_5 (Activation)    (None, 64)                0         \n",
      "_________________________________________________________________\n",
      "flatten_1 (Flatten)          (None, 64)                0         \n",
      "_________________________________________________________________\n",
      "dense_1 (Dense)              (None, 10)                650       \n",
      "=================================================================\n",
      "Total params: 171,050\n",
      "Trainable params: 0\n",
      "Non-trainable params: 171,050\n",
      "_________________________________________________________________\n"
     ]
    }
   ],
   "source": [
    "for layer in model.layers:\n",
    "    layer.trainable = False\n",
    "\n",
    "model.summary()    "
   ]
  },
  {
   "cell_type": "code",
   "execution_count": 10,
   "id": "103e42b0",
   "metadata": {},
   "outputs": [],
   "source": [
    "modelTL = keras.models.Sequential()\n",
    "for layer in model.layers[0:-1]:\n",
    "    modelTL.add(layer)"
   ]
  },
  {
   "cell_type": "code",
   "execution_count": 11,
   "id": "0a113872",
   "metadata": {},
   "outputs": [
    {
     "name": "stdout",
     "output_type": "stream",
     "text": [
      "Model: \"sequential_1\"\n",
      "_________________________________________________________________\n",
      "Layer (type)                 Output Shape              Param #   \n",
      "=================================================================\n",
      "conv2d (Conv2D)              (None, 110, 110, 32)      2432      \n",
      "_________________________________________________________________\n",
      "batch_normalization (BatchNo (None, 110, 110, 32)      96        \n",
      "_________________________________________________________________\n",
      "activation (Activation)      (None, 110, 110, 32)      0         \n",
      "_________________________________________________________________\n",
      "conv2d_1 (Conv2D)            (None, 53, 53, 32)        25632     \n",
      "_________________________________________________________________\n",
      "batch_normalization_1 (Batch (None, 53, 53, 32)        96        \n",
      "_________________________________________________________________\n",
      "activation_1 (Activation)    (None, 53, 53, 32)        0         \n",
      "_________________________________________________________________\n",
      "conv2d_2 (Conv2D)            (None, 25, 25, 64)        51264     \n",
      "_________________________________________________________________\n",
      "batch_normalization_2 (Batch (None, 25, 25, 64)        192       \n",
      "_________________________________________________________________\n",
      "activation_2 (Activation)    (None, 25, 25, 64)        0         \n",
      "_________________________________________________________________\n",
      "max_pooling2d (MaxPooling2D) (None, 12, 12, 64)        0         \n",
      "_________________________________________________________________\n",
      "conv2d_3 (Conv2D)            (None, 5, 5, 64)          36928     \n",
      "_________________________________________________________________\n",
      "batch_normalization_3 (Batch (None, 5, 5, 64)          192       \n",
      "_________________________________________________________________\n",
      "activation_3 (Activation)    (None, 5, 5, 64)          0         \n",
      "_________________________________________________________________\n",
      "conv2d_4 (Conv2D)            (None, 2, 2, 64)          36928     \n",
      "_________________________________________________________________\n",
      "batch_normalization_4 (Batch (None, 2, 2, 64)          192       \n",
      "_________________________________________________________________\n",
      "activation_4 (Activation)    (None, 2, 2, 64)          0         \n",
      "_________________________________________________________________\n",
      "flatten (Flatten)            (None, 256)               0         \n",
      "_________________________________________________________________\n",
      "dense (Dense)                (None, 64)                16448     \n",
      "_________________________________________________________________\n",
      "activation_5 (Activation)    (None, 64)                0         \n",
      "_________________________________________________________________\n",
      "flatten_1 (Flatten)          (None, 64)                0         \n",
      "=================================================================\n",
      "Total params: 170,400\n",
      "Trainable params: 0\n",
      "Non-trainable params: 170,400\n",
      "_________________________________________________________________\n"
     ]
    }
   ],
   "source": [
    "modelTL.summary()"
   ]
  },
  {
   "cell_type": "code",
   "execution_count": 12,
   "id": "27cc75bc",
   "metadata": {},
   "outputs": [],
   "source": [
    "modelTL.add(layers.Dense(6, activation='softmax'))"
   ]
  },
  {
   "cell_type": "code",
   "execution_count": 13,
   "id": "7c2a9960",
   "metadata": {},
   "outputs": [
    {
     "name": "stdout",
     "output_type": "stream",
     "text": [
      "Model: \"sequential_1\"\n",
      "_________________________________________________________________\n",
      "Layer (type)                 Output Shape              Param #   \n",
      "=================================================================\n",
      "conv2d (Conv2D)              (None, 110, 110, 32)      2432      \n",
      "_________________________________________________________________\n",
      "batch_normalization (BatchNo (None, 110, 110, 32)      96        \n",
      "_________________________________________________________________\n",
      "activation (Activation)      (None, 110, 110, 32)      0         \n",
      "_________________________________________________________________\n",
      "conv2d_1 (Conv2D)            (None, 53, 53, 32)        25632     \n",
      "_________________________________________________________________\n",
      "batch_normalization_1 (Batch (None, 53, 53, 32)        96        \n",
      "_________________________________________________________________\n",
      "activation_1 (Activation)    (None, 53, 53, 32)        0         \n",
      "_________________________________________________________________\n",
      "conv2d_2 (Conv2D)            (None, 25, 25, 64)        51264     \n",
      "_________________________________________________________________\n",
      "batch_normalization_2 (Batch (None, 25, 25, 64)        192       \n",
      "_________________________________________________________________\n",
      "activation_2 (Activation)    (None, 25, 25, 64)        0         \n",
      "_________________________________________________________________\n",
      "max_pooling2d (MaxPooling2D) (None, 12, 12, 64)        0         \n",
      "_________________________________________________________________\n",
      "conv2d_3 (Conv2D)            (None, 5, 5, 64)          36928     \n",
      "_________________________________________________________________\n",
      "batch_normalization_3 (Batch (None, 5, 5, 64)          192       \n",
      "_________________________________________________________________\n",
      "activation_3 (Activation)    (None, 5, 5, 64)          0         \n",
      "_________________________________________________________________\n",
      "conv2d_4 (Conv2D)            (None, 2, 2, 64)          36928     \n",
      "_________________________________________________________________\n",
      "batch_normalization_4 (Batch (None, 2, 2, 64)          192       \n",
      "_________________________________________________________________\n",
      "activation_4 (Activation)    (None, 2, 2, 64)          0         \n",
      "_________________________________________________________________\n",
      "flatten (Flatten)            (None, 256)               0         \n",
      "_________________________________________________________________\n",
      "dense (Dense)                (None, 64)                16448     \n",
      "_________________________________________________________________\n",
      "activation_5 (Activation)    (None, 64)                0         \n",
      "_________________________________________________________________\n",
      "flatten_1 (Flatten)          (None, 64)                0         \n",
      "_________________________________________________________________\n",
      "dense_2 (Dense)              (None, 6)                 390       \n",
      "=================================================================\n",
      "Total params: 170,790\n",
      "Trainable params: 390\n",
      "Non-trainable params: 170,400\n",
      "_________________________________________________________________\n"
     ]
    }
   ],
   "source": [
    "modelTL.summary()"
   ]
  },
  {
   "cell_type": "code",
   "execution_count": 14,
   "id": "bce64c1b",
   "metadata": {},
   "outputs": [],
   "source": [
    "sgd = SGD(learning_rate=0.1)"
   ]
  },
  {
   "cell_type": "code",
   "execution_count": 15,
   "id": "b32ca1f5",
   "metadata": {},
   "outputs": [],
   "source": [
    "modelTL.compile(loss='categorical_crossentropy', optimizer=sgd, metrics=['accuracy'])"
   ]
  },
  {
   "cell_type": "code",
   "execution_count": 16,
   "id": "b73c4af9",
   "metadata": {},
   "outputs": [
    {
     "name": "stdout",
     "output_type": "stream",
     "text": [
      "WARNING:tensorflow:sample_weight modes were coerced from\n",
      "  ...\n",
      "    to  \n",
      "  ['...']\n",
      "WARNING:tensorflow:sample_weight modes were coerced from\n",
      "  ...\n",
      "    to  \n",
      "  ['...']\n",
      "Train for 897 steps, validate for 128 steps\n",
      "Epoch 1/10\n",
      "897/897 [==============================] - 81s 90ms/step - loss: 1.2973 - accuracy: 0.4992 - val_loss: 1.2548 - val_accuracy: 0.5136\n",
      "Epoch 2/10\n",
      "897/897 [==============================] - 61s 68ms/step - loss: 1.2544 - accuracy: 0.5116 - val_loss: 1.2575 - val_accuracy: 0.5055\n",
      "Epoch 3/10\n",
      "897/897 [==============================] - 61s 68ms/step - loss: 1.2520 - accuracy: 0.5132 - val_loss: 1.2421 - val_accuracy: 0.5163\n",
      "Epoch 4/10\n",
      "897/897 [==============================] - 60s 67ms/step - loss: 1.2488 - accuracy: 0.5133 - val_loss: 1.2546 - val_accuracy: 0.5067\n",
      "Epoch 5/10\n",
      "897/897 [==============================] - 60s 67ms/step - loss: 1.2478 - accuracy: 0.5144 - val_loss: 1.2511 - val_accuracy: 0.5170\n",
      "Epoch 6/10\n",
      "897/897 [==============================] - 61s 68ms/step - loss: 1.2483 - accuracy: 0.5112 - val_loss: 1.2376 - val_accuracy: 0.5190\n",
      "Epoch 7/10\n",
      "897/897 [==============================] - 61s 68ms/step - loss: 1.2458 - accuracy: 0.5149 - val_loss: 1.2494 - val_accuracy: 0.5116\n",
      "Epoch 8/10\n",
      "897/897 [==============================] - 65s 73ms/step - loss: 1.2481 - accuracy: 0.5152 - val_loss: 1.2453 - val_accuracy: 0.5175\n",
      "Epoch 9/10\n",
      "897/897 [==============================] - 63s 70ms/step - loss: 1.2459 - accuracy: 0.5137 - val_loss: 1.2422 - val_accuracy: 0.5099\n",
      "Epoch 10/10\n",
      "897/897 [==============================] - 62s 69ms/step - loss: 1.2453 - accuracy: 0.5142 - val_loss: 1.2350 - val_accuracy: 0.5180\n"
     ]
    }
   ],
   "source": [
    "hist = modelTL.fit(\n",
    "                train_batches,\n",
    "                #batch_size=batch_size,\n",
    "                epochs=10,\n",
    "                validation_data = test_batches,\n",
    "                #validation_steps= images_per_class_test * n_classes / batch_size,\n",
    "                #callbacks=[cp_callback] \n",
    "                )"
   ]
  },
  {
   "cell_type": "code",
   "execution_count": 17,
   "id": "fe3afa7e",
   "metadata": {},
   "outputs": [
    {
     "data": {
      "text/plain": [
       "<matplotlib.legend.Legend at 0x1da7d2e2308>"
      ]
     },
     "execution_count": 17,
     "metadata": {},
     "output_type": "execute_result"
    },
    {
     "data": {
      "image/png": "[encoded data removed]",
      "text/plain": [
       "<Figure size 432x288 with 1 Axes>"
      ]
     },
     "metadata": {
      "needs_background": "light"
     },
     "output_type": "display_data"
    }
   ],
   "source": [
    "import matplotlib.pyplot as plt\n",
    "plt.plot(hist.history['accuracy'], label='train')\n",
    "plt.plot(hist.history['val_accuracy'], label='test')\n",
    "plt.legend()"
   ]
  },
  {
   "cell_type": "code",
   "execution_count": 18,
   "id": "84db8ff7",
   "metadata": {},
   "outputs": [
    {
     "data": {
      "text/plain": [
       "<tf.Tensor: shape=(4089,), dtype=int64, numpy=array([2, 0, 0, ..., 4, 0, 0], dtype=int64)>"
      ]
     },
     "execution_count": 18,
     "metadata": {},
     "output_type": "execute_result"
    }
   ],
   "source": [
    "from sklearn.metrics import f1_score\n",
    "predictions = modelTL.predict(test_batches)\n",
    "predictions = tf.argmax(predictions, axis=-1)\n",
    "predictions"
   ]
  },
  {
   "cell_type": "code",
   "execution_count": 19,
   "id": "a20b0bd9",
   "metadata": {},
   "outputs": [
    {
     "data": {
      "text/plain": [
       "0.1509590151539649"
      ]
     },
     "execution_count": 19,
     "metadata": {},
     "output_type": "execute_result"
    }
   ],
   "source": [
    "y_pred = predictions.numpy()\n",
    "y_true = test_batches.labels\n",
    "f1 = f1_score(y_true, y_pred, average='macro') \n",
    "f1"
   ]
  },
  {
   "cell_type": "code",
   "execution_count": 23,
   "id": "fca2ae5d",
   "metadata": {},
   "outputs": [
    {
     "data": {
      "text/plain": [
       "<AxesSubplot:>"
      ]
     },
     "execution_count": 23,
     "metadata": {},
     "output_type": "execute_result"
    },
    {
     "data": {
      "image/png": "[encoded data removed]",
      "text/plain": [
       "<Figure size 432x288 with 2 Axes>"
      ]
     },
     "metadata": {
      "needs_background": "light"
     },
     "output_type": "display_data"
    }
   ],
   "source": [
    "from sklearn.metrics import confusion_matrix\n",
    "import seaborn as sns\n",
    "matrix = confusion_matrix(y_true, y_pred)\n",
    "#matrix\n",
    "plt.figure()\n",
    "sns.heatmap(matrix, annot=True)\n"
   ]
  },
  {
   "cell_type": "markdown",
   "id": "cc5e3457",
   "metadata": {},
   "source": [
    "## MobileNetV2"
   ]
  },
  {
   "cell_type": "code",
   "execution_count": 24,
   "id": "e8e18ffa",
   "metadata": {},
   "outputs": [],
   "source": [
    "IMG_SHAPE = (224, 224, 3)\n",
    "\n",
    "\n",
    "base_model = tf.keras.applications.MobileNetV2(input_shape=IMG_SHAPE,\n",
    "                                               include_top=False,\n",
    "                                               weights='imagenet')"
   ]
  },
  {
   "cell_type": "code",
   "execution_count": 25,
   "id": "37f1fafa",
   "metadata": {},
   "outputs": [],
   "source": [
    "base_model.trainable = False"
   ]
  },
  {
   "cell_type": "code",
   "execution_count": 26,
   "id": "1dfdca06",
   "metadata": {},
   "outputs": [],
   "source": [
    "global_average_layer = tf.keras.layers.GlobalAveragePooling2D()\n",
    "prediction_layer = tf.keras.layers.Dense(6)"
   ]
  },
  {
   "cell_type": "code",
   "execution_count": 27,
   "id": "945fd031",
   "metadata": {},
   "outputs": [],
   "source": [
    "modelMNV = tf.keras.Sequential([\n",
    "  base_model,\n",
    "  global_average_layer,\n",
    "  prediction_layer\n",
    "])\n",
    "\n",
    "sgd = SGD(learning_rate=0.1)\n",
    "modelMNV.compile(loss='categorical_crossentropy', optimizer=sgd, metrics=['accuracy'])"
   ]
  },
  {
   "cell_type": "code",
   "execution_count": 28,
   "id": "39327fe4",
   "metadata": {},
   "outputs": [
    {
     "name": "stdout",
     "output_type": "stream",
     "text": [
      "Model: \"sequential_2\"\n",
      "_________________________________________________________________\n",
      "Layer (type)                 Output Shape              Param #   \n",
      "=================================================================\n",
      "mobilenetv2_1.00_224 (Model) (None, 7, 7, 1280)        2257984   \n",
      "_________________________________________________________________\n",
      "global_average_pooling2d (Gl (None, 1280)              0         \n",
      "_________________________________________________________________\n",
      "dense_3 (Dense)              (None, 6)                 7686      \n",
      "=================================================================\n",
      "Total params: 2,265,670\n",
      "Trainable params: 7,686\n",
      "Non-trainable params: 2,257,984\n",
      "_________________________________________________________________\n"
     ]
    }
   ],
   "source": [
    "modelMNV.summary()"
   ]
  },
  {
   "cell_type": "code",
   "execution_count": 29,
   "id": "242d54cb",
   "metadata": {},
   "outputs": [
    {
     "name": "stdout",
     "output_type": "stream",
     "text": [
      "WARNING:tensorflow:sample_weight modes were coerced from\n",
      "  ...\n",
      "    to  \n",
      "  ['...']\n"
     ]
    },
    {
     "name": "stderr",
     "output_type": "stream",
     "text": [
      "WARNING:tensorflow:sample_weight modes were coerced from\n",
      "  ...\n",
      "    to  \n",
      "  ['...']\n"
     ]
    },
    {
     "name": "stdout",
     "output_type": "stream",
     "text": [
      "WARNING:tensorflow:sample_weight modes were coerced from\n",
      "  ...\n",
      "    to  \n",
      "  ['...']\n"
     ]
    },
    {
     "name": "stderr",
     "output_type": "stream",
     "text": [
      "WARNING:tensorflow:sample_weight modes were coerced from\n",
      "  ...\n",
      "    to  \n",
      "  ['...']\n"
     ]
    },
    {
     "name": "stdout",
     "output_type": "stream",
     "text": [
      "Train for 897 steps, validate for 128 steps\n",
      "Epoch 1/10\n",
      "897/897 [==============================] - 78s 87ms/step - loss: 6.5910 - accuracy: 0.0240 - val_loss: 4.3332 - val_accuracy: 0.0274\n",
      "Epoch 2/10\n",
      "897/897 [==============================] - 63s 70ms/step - loss: 6.1635 - accuracy: 0.0242 - val_loss: 4.5338 - val_accuracy: 0.0274\n",
      "Epoch 3/10\n",
      "897/897 [==============================] - 63s 70ms/step - loss: 6.2495 - accuracy: 0.0241 - val_loss: 4.6203 - val_accuracy: 0.0274\n",
      "Epoch 4/10\n",
      "897/897 [==============================] - 65s 73ms/step - loss: 6.2041 - accuracy: 0.0236 - val_loss: 4.3999 - val_accuracy: 0.0274\n",
      "Epoch 5/10\n",
      "897/897 [==============================] - 65s 73ms/step - loss: 6.3342 - accuracy: 0.0239 - val_loss: 4.7383 - val_accuracy: 0.0274\n",
      "Epoch 6/10\n",
      "897/897 [==============================] - 66s 74ms/step - loss: 6.3494 - accuracy: 0.0242 - val_loss: 4.5770 - val_accuracy: 0.0274\n",
      "Epoch 7/10\n",
      "897/897 [==============================] - 66s 73ms/step - loss: 6.3361 - accuracy: 0.0242 - val_loss: 4.5770 - val_accuracy: 0.0274\n",
      "Epoch 8/10\n",
      "897/897 [==============================] - 65s 72ms/step - loss: 6.3294 - accuracy: 0.0240 - val_loss: 4.5770 - val_accuracy: 0.0274\n",
      "Epoch 9/10\n",
      "897/897 [==============================] - 66s 74ms/step - loss: 6.3488 - accuracy: 0.0242 - val_loss: 4.7619 - val_accuracy: 0.0274\n",
      "Epoch 10/10\n",
      "897/897 [==============================] - 65s 72ms/step - loss: 6.4771 - accuracy: 0.0244 - val_loss: 4.7619 - val_accuracy: 0.0274\n"
     ]
    }
   ],
   "source": [
    "history = modelMNV.fit(train_batches,\n",
    "                    epochs=10,\n",
    "                    validation_data=test_batches)"
   ]
  },
  {
   "cell_type": "code",
   "execution_count": 31,
   "id": "ca9b3933",
   "metadata": {},
   "outputs": [
    {
     "data": {
      "text/plain": [
       "<tf.Tensor: shape=(4089,), dtype=int64, numpy=array([5, 5, 5, ..., 5, 5, 5], dtype=int64)>"
      ]
     },
     "execution_count": 31,
     "metadata": {},
     "output_type": "execute_result"
    }
   ],
   "source": [
    "predictions2 = modelMNV.predict(test_batches)\n",
    "predictions2 = tf.argmax(predictions2, axis=-1)\n",
    "predictions2"
   ]
  },
  {
   "cell_type": "code",
   "execution_count": 32,
   "id": "14c33c87",
   "metadata": {},
   "outputs": [
    {
     "data": {
      "text/plain": [
       "0.008903728436282692"
      ]
     },
     "execution_count": 32,
     "metadata": {},
     "output_type": "execute_result"
    }
   ],
   "source": [
    "y_pred2 = predictions2.numpy()\n",
    "y_true2 = test_batches.labels\n",
    "f12 = f1_score(y_true2, y_pred2, average='macro') \n",
    "f12"
   ]
  },
  {
   "cell_type": "code",
   "execution_count": 33,
   "id": "0dd5f034",
   "metadata": {},
   "outputs": [
    {
     "data": {
      "text/plain": [
       "<AxesSubplot:>"
      ]
     },
     "execution_count": 33,
     "metadata": {},
     "output_type": "execute_result"
    },
    {
     "data": {
      "image/png": "[encoded data removed]",
      "text/plain": [
       "<Figure size 432x288 with 2 Axes>"
      ]
     },
     "metadata": {
      "needs_background": "light"
     },
     "output_type": "display_data"
    }
   ],
   "source": [
    "matrix2 = confusion_matrix(y_true2, y_pred2)\n",
    "#matrix\n",
    "plt.figure()\n",
    "sns.heatmap(matrix2, annot=True)"
   ]
  },
  {
   "cell_type": "code",
   "execution_count": null,
   "id": "fa908334",
   "metadata": {},
   "outputs": [],
   "source": []
  }
 ],
 "metadata": {
  "kernelspec": {
   "display_name": "Python 3.6 (tensorflow)",
   "language": "python",
   "name": "tensorflow"
  },
  "language_info": {
   "codemirror_mode": {
    "name": "ipython",
    "version": 3
   },
   "file_extension": ".py",
   "mimetype": "text/x-python",
   "name": "python",
   "nbconvert_exporter": "python",
   "pygments_lexer": "ipython3",
   "version": "3.7.11"
  }
 },
 "nbformat": 4,
 "nbformat_minor": 5
}
